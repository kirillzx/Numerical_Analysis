{
 "cells": [
  {
   "cell_type": "markdown",
   "metadata": {},
   "source": [
    "## Kirill Zakharov\n",
    "### Rotation Method"
   ]
  },
  {
   "cell_type": "code",
   "execution_count": 7,
   "metadata": {},
   "outputs": [
    {
     "name": "stdout",
     "output_type": "stream",
     "text": [
      "Исходная матрица:\n",
      " [[ 1.    0.17 -0.25  0.54  0.3 ]\n",
      " [ 0.47  1.    0.67 -0.32  0.5 ]\n",
      " [-0.11  0.35  1.   -0.74  0.7 ]\n",
      " [ 0.55  0.43  0.36  1.    0.9 ]]\n",
      "Решение системы:\n",
      "[[ 0.44088855]\n",
      " [-0.36303099]\n",
      " [ 1.16679833]\n",
      " [ 0.39356722]]\n"
     ]
    }
   ],
   "source": [
    "import numpy as np\n",
    "from math import sqrt\n",
    "\n",
    "def solve(a):\n",
    "    n = a.shape[0]\n",
    "    #Прямой ход\n",
    "    for i in range(n-1):\n",
    "        for j in range(i + 1, n):\n",
    "            c = a[i, i] / sqrt(a[i, i]*a[i, i] + a[j, i]*a[j, i])\n",
    "            s = a[j, i] / sqrt(a[i, i]*a[i, i] + a[j, i]*a[j, i])\n",
    "            newFirst = c * a[i, :] + a[j, :] * s\n",
    "            newSecond = -s * a[i, :] + a[j, :] * c\n",
    "            a[i, :] = newFirst\n",
    "            a[j, :] = newSecond\n",
    "\n",
    "    if np.any(np.diag(a) == 0):\n",
    "        print('Система имеет бесконечное число ответов')\n",
    "        return\n",
    "\n",
    "    #обратный ход\n",
    "    x = np.matrix([0.0 for i in range(n)]).T\n",
    "    for k in range(n - 1, -1, -1):\n",
    "        x[k, 0] = (a[k, -1] - a[k, k:n] * x[k:n, 0]) / a[k, k]\n",
    "\n",
    "    print(x)\n",
    "\n",
    "a = np.matrix('1.00 0.17 -0.25 0.54 0.3; 0.47 1.00 0.67 -0.32 0.5; -0.11 0.35 1.00 -0.74 0.7; 0.55 0.43 0.36 1.00 0.9')\n",
    "print('Исходная матрица:\\n', a)\n",
    "print('Решение системы:')\n",
    "solve(a)"
   ]
  },
  {
   "cell_type": "code",
   "execution_count": null,
   "metadata": {},
   "outputs": [],
   "source": []
  }
 ],
 "metadata": {
  "kernelspec": {
   "display_name": "Python 3",
   "language": "python",
   "name": "python3"
  },
  "language_info": {
   "codemirror_mode": {
    "name": "ipython",
    "version": 3
   },
   "file_extension": ".py",
   "mimetype": "text/x-python",
   "name": "python",
   "nbconvert_exporter": "python",
   "pygments_lexer": "ipython3",
   "version": "3.6.4"
  }
 },
 "nbformat": 4,
 "nbformat_minor": 2
}
